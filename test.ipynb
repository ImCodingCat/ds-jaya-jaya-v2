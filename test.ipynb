{
 "cells": [
  {
   "cell_type": "code",
   "execution_count": 11,
   "metadata": {},
   "outputs": [],
   "source": [
    "import pandas as pd"
   ]
  },
  {
   "cell_type": "code",
   "execution_count": 15,
   "metadata": {},
   "outputs": [],
   "source": [
    "import json\n",
    "\n",
    "with open('column_definitions.json', 'r') as file:\n",
    "    column_definitions = json.load(file)\n",
    "\n",
    "column_definitions = column_definitions['columns']"
   ]
  },
  {
   "cell_type": "code",
   "execution_count": 16,
   "metadata": {},
   "outputs": [],
   "source": [
    "\n",
    "data = pd.read_csv('./data.csv', sep=';')\n",
    "columns = data.columns.values"
   ]
  },
  {
   "cell_type": "code",
   "execution_count": 17,
   "metadata": {},
   "outputs": [],
   "source": [
    "for col in columns:\n",
    "    if col == 'Status':\n",
    "        continue\n",
    "    definitions = column_definitions[col]\n",
    "    data_type = definitions['type']\n",
    "    description = definitions['description']\n",
    "    if data_type == 'categorical':\n",
    "        categories = definitions['categories']\n",
    "        data[col] = data[col].apply(lambda x: categories[str(x)])\n",
    "   "
   ]
  },
  {
   "cell_type": "code",
   "execution_count": 18,
   "metadata": {},
   "outputs": [
    {
     "data": {
      "text/plain": [
       "124"
      ]
     },
     "execution_count": 18,
     "metadata": {},
     "output_type": "execute_result"
    }
   ],
   "source": [
    "from sqlalchemy import create_engine\n",
    " \n",
    "URL = \"postgresql://postgres.wseubbzyyzhmqgyzinsz:J5,mC.SwRNV9_aFe&<Pp;^@aws-0-ap-southeast-1.pooler.supabase.com:6543/postgres\"\n",
    " \n",
    "engine = create_engine(URL)\n",
    "data.to_sql('student', engine)"
   ]
  }
 ],
 "metadata": {
  "kernelspec": {
   "display_name": "sbm_meta",
   "language": "python",
   "name": "python3"
  },
  "language_info": {
   "codemirror_mode": {
    "name": "ipython",
    "version": 3
   },
   "file_extension": ".py",
   "mimetype": "text/x-python",
   "name": "python",
   "nbconvert_exporter": "python",
   "pygments_lexer": "ipython3",
   "version": "3.10.16"
  }
 },
 "nbformat": 4,
 "nbformat_minor": 2
}
